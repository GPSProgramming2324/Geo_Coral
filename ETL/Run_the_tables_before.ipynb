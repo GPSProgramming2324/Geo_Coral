{
 "cells": [
  {
   "cell_type": "code",
   "execution_count": 1,
   "metadata": {},
   "outputs": [],
   "source": [
    "#run before the py \n",
    "\n",
    "import psycopg2\n",
    "\n",
    "\n",
    "new_connection = psycopg2.connect(database='geocoral' ,user = \"postgres\", \n",
    "                                  password = \"postgres\", host = \"localhost\", port = \"5432\")\n",
    "new_connection.autocommit = True\n",
    "cursor = new_connection.cursor()\n",
    "table_query = \"\"\"\n",
    "CREATE TABLE IF NOT EXISTS coral (\n",
    "    ID SERIAL PRIMARY KEY,\n",
    "    Geometry GEOMETRY(Polygon, 4326) \n",
    ");\n",
    "\"\"\"\n",
    "\n",
    "\n",
    "\n",
    "new_connection.autocommit = True\n",
    "cursor = new_connection.cursor()\n",
    "cursor.execute(table_query)\n"
   ]
  },
  {
   "cell_type": "code",
   "execution_count": 2,
   "metadata": {},
   "outputs": [],
   "source": [
    "import psycopg2\n",
    "\n",
    "\n",
    "new_connection = psycopg2.connect(database='geocoral' ,user = \"postgres\", \n",
    "                                  password = \"postgres\", host = \"localhost\", port = \"5432\")\n",
    "new_connection.autocommit = True\n",
    "cursor = new_connection.cursor()\n",
    "table_query = \"\"\"\n",
    "CREATE TABLE Temperature (\n",
    "    ID SERIAL PRIMARY KEY,\n",
    "    Coral_ID INT REFERENCES Coral(ID),\n",
    "    Date DATE NOT NULL,\n",
    "    Temperature FLOAT NOT NULL,\n",
    "\tDHW FLOAT NOT NULL\n",
    ");\n",
    "\"\"\"\n",
    "\n",
    "new_connection.autocommit = True\n",
    "cursor = new_connection.cursor()\n",
    "cursor.execute(table_query)"
   ]
  },
  {
   "cell_type": "code",
   "execution_count": null,
   "metadata": {},
   "outputs": [],
   "source": []
  }
 ],
 "metadata": {
  "kernelspec": {
   "display_name": "Python 3 (ipykernel)",
   "language": "python",
   "name": "python3"
  },
  "language_info": {
   "codemirror_mode": {
    "name": "ipython",
    "version": 3
   },
   "file_extension": ".py",
   "mimetype": "text/x-python",
   "name": "python",
   "nbconvert_exporter": "python",
   "pygments_lexer": "ipython3",
   "version": "3.12.2"
  }
 },
 "nbformat": 4,
 "nbformat_minor": 4
}
